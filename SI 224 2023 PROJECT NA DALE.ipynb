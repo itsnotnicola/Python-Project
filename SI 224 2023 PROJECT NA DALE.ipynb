{
 "cells": [
  {
   "cell_type": "markdown",
   "id": "61cadd6d",
   "metadata": {},
   "source": [
    "# SI 224 2023 PROJECT"
   ]
  },
  {
   "cell_type": "markdown",
   "id": "3ede08dc",
   "metadata": {},
   "source": [
    "## Section A - Implementation:"
   ]
  },
  {
   "cell_type": "markdown",
   "id": "9e4d18a4",
   "metadata": {},
   "source": [
    "Please refer to Section B for the program introduction and help documentation."
   ]
  },
  {
   "cell_type": "markdown",
   "id": "51c1aecd",
   "metadata": {},
   "source": [
    "### Importing Libraries"
   ]
  },
  {
   "cell_type": "code",
   "execution_count": 176,
   "id": "bcaa3b83",
   "metadata": {},
   "outputs": [
    {
     "name": "stdout",
     "output_type": "stream",
     "text": [
      "Requirement already satisfied: pip in c:\\users\\dalen\\anaconda3\\lib\\site-packages (23.1.2)\n",
      "Requirement already satisfied: omdb in c:\\users\\dalen\\anaconda3\\lib\\site-packages (0.10.1)\n",
      "Requirement already satisfied: requests>=2.0.1 in c:\\users\\dalen\\anaconda3\\lib\\site-packages (from omdb) (2.28.1)\n",
      "Requirement already satisfied: charset-normalizer<3,>=2 in c:\\users\\dalen\\anaconda3\\lib\\site-packages (from requests>=2.0.1->omdb) (2.0.4)\n",
      "Requirement already satisfied: idna<4,>=2.5 in c:\\users\\dalen\\anaconda3\\lib\\site-packages (from requests>=2.0.1->omdb) (3.3)\n",
      "Requirement already satisfied: urllib3<1.27,>=1.21.1 in c:\\users\\dalen\\anaconda3\\lib\\site-packages (from requests>=2.0.1->omdb) (1.26.11)\n",
      "Requirement already satisfied: certifi>=2017.4.17 in c:\\users\\dalen\\anaconda3\\lib\\site-packages (from requests>=2.0.1->omdb) (2022.9.14)\n",
      "Requirement already satisfied: keyboard in c:\\users\\dalen\\anaconda3\\lib\\site-packages (0.13.5)\n",
      "Requirement already satisfied: pandas in c:\\users\\dalen\\anaconda3\\lib\\site-packages (1.3.0)\n",
      "Requirement already satisfied: numpy>=1.17.3 in c:\\users\\dalen\\anaconda3\\lib\\site-packages (from pandas) (1.21.5)\n",
      "Requirement already satisfied: python-dateutil>=2.7.3 in c:\\users\\dalen\\anaconda3\\lib\\site-packages (from pandas) (2.8.2)\n",
      "Requirement already satisfied: pytz>=2017.3 in c:\\users\\dalen\\anaconda3\\lib\\site-packages (from pandas) (2022.1)\n",
      "Requirement already satisfied: six>=1.5 in c:\\users\\dalen\\anaconda3\\lib\\site-packages (from python-dateutil>=2.7.3->pandas) (1.16.0)\n"
     ]
    }
   ],
   "source": [
    "import sys\n",
    "!{sys.executable} -m pip install --upgrade pip\n",
    "!{sys.executable} -m pip install omdb\n",
    "!{sys.executable} -m pip install keyboard"
   ]
  },
  {
   "cell_type": "markdown",
   "id": "e811fc54",
   "metadata": {},
   "source": [
    "### Section A - Final Code"
   ]
  },
  {
   "cell_type": "code",
   "execution_count": 53,
   "id": "6dda2361",
   "metadata": {},
   "outputs": [
    {
     "name": "stdout",
     "output_type": "stream",
     "text": [
      "<Response [200]>\n",
      "\t This program enables you to look up and receive information about movies using the Open Movie Database API \n",
      " \t Here is a list of previously searched titles: \n",
      "\n",
      "Result:Rick and Morty\n",
      "\n",
      "Result:The Mandalorian\n",
      "\n",
      "Result:The Book of Boba Fett\n",
      "\n",
      "Result:The Office\n",
      "\n",
      "\n",
      " Please press \"n\" to continue\n",
      "What would you like to do first?\n",
      "\t 1: Search by title. \n",
      " \t 2: View previous search information.\n",
      " \t 3: Exit. \n",
      "2\n",
      "Title:Rick and Morty\n",
      "\n",
      "Genre:Animation, Adventure, Comedy\n",
      "\n",
      "Year:2013–\n",
      "\n",
      "Runtime:23 min\n",
      "\n",
      "Director:N/A\n",
      "\n",
      "Awards:Won 2 Primetime Emmys. 18 wins & 37 nominations total\n",
      "\n",
      "Actors:Justin Roiland, Chris Parnell, Spencer Grammer\n",
      "\n",
      "\n",
      "\n",
      "Title:The Mandalorian\n",
      "\n",
      "Genre:Action, Adventure, Fantasy\n",
      "\n",
      "Year:2019–\n",
      "\n",
      "Runtime:40 min\n",
      "\n",
      "Director:N/A\n",
      "\n",
      "Awards:Won 14 Primetime Emmys. 58 wins & 122 nominations total\n",
      "\n",
      "Actors:Pedro Pascal, Chris Bartlett, Katee Sackhoff\n",
      "\n",
      "\n",
      "\n",
      "Title:The Book of Boba Fett\n",
      "\n",
      "Genre:Action, Adventure, Sci-Fi\n",
      "\n",
      "Year:2021–\n",
      "\n",
      "Runtime:N/A\n",
      "\n",
      "Director:N/A\n",
      "\n",
      "Awards:Won 1 Primetime Emmy. 4 wins & 12 nominations total\n",
      "\n",
      "Actors:Temuera Morrison, Ming-Na Wen, Frank Trigg\n",
      "\n",
      "\n",
      "\n",
      "Title:The Office\n",
      "\n",
      "Genre:Comedy\n",
      "\n",
      "Year:2005–2013\n",
      "\n",
      "Runtime:22 min\n",
      "\n",
      "Director:N/A\n",
      "\n",
      "Awards:Won 5 Primetime Emmys. 51 wins & 195 nominations total\n",
      "\n",
      "Actors:Steve Carell, Jenna Fischer, John Krasinski\n",
      "\n",
      "\n",
      "\n",
      "\n",
      " The above contains all information about previously searched titles.\n"
     ]
    }
   ],
   "source": [
    "## Importing libraries\n",
    "import requests\n",
    "import json\n",
    "import omdb\n",
    "import keyboard\n",
    "import pandas as pd\n",
    "\n",
    "#Initialising variables\n",
    "stop=False #Boolean variable \n",
    "choice=0 #Integer variable\n",
    "validSelection=True #Boolean variable\n",
    "viewDFValid=False #Boolean variable\n",
    "viewDFChoice=0 #Integer variable\n",
    "discontinue=0 #Integer variable\n",
    "\n",
    "#Initialising global variable\n",
    "global title\n",
    "\n",
    "#Opening textfiles\n",
    "searchHistoryFile= open('Search History.txt','r+',encoding=\"UTF-8\") #Textfile which holds previous search titles ONLY\n",
    "lastSearchFile= open('Last Searched.txt','r+',encoding=\"UTF-8\") #Textfile which holds all previous informaion of searches\n",
    "\n",
    "#Defining search + print function\n",
    "def search_title(title):\n",
    "    parameters = {\n",
    "        \"t\": title #Setting title as parameters for API search\n",
    "    }\n",
    "    response = requests.get('http://www.omdbapi.com/?i=tt3896198&apikey=64621bf0',params=parameters) #Searching according to title\n",
    "    info= response.json() #Receive respnse as json data\n",
    "    movieInfo=[] #Initialise movieInfo list\n",
    "    newInfo='Result:'+info['Title']+'\\n' #Formatting output from json data to movieInfo List (for display)\n",
    "    searchHistoryFile.write(newInfo) #Writing formatted output of most recent search title to all previous search title text file\n",
    "    newInfo='Title:'+info['Title'] +'\\n' #As above\n",
    "    movieInfo.append(newInfo) #As above\n",
    "    newInfo='Genre:'+info['Genre'] +'\\n'\n",
    "    movieInfo.append(newInfo)\n",
    "    newInfo= 'Year:'+ info['Year'] +'\\n'\n",
    "    movieInfo.append(newInfo)\n",
    "    newInfo= 'Runtime:'+ info['Runtime'] +'\\n'\n",
    "    movieInfo.append(newInfo)\n",
    "    newInfo= 'Director:'+ info['Director'] +'\\n'\n",
    "    movieInfo.append(newInfo)\n",
    "    newInfo= 'Awards:'+ info['Awards'] +'\\n'\n",
    "    movieInfo.append(newInfo)\n",
    "    newInfo= 'Actors:'+ info['Actors'] +'\\n'\n",
    "    movieInfo.append(newInfo) \n",
    "    for j in range(len(movieInfo)): #Print contents of movieInfo list\n",
    "        print(movieInfo[j])\n",
    "        lastSearchFile.write(movieInfo[j]) #Write contents of movieInfo list to all previous information of searches text file\n",
    "    lastSearchFile.write('\\n') #Add extra line to text file entry for formatting\n",
    "\n",
    "#Defining dataframe view of recent search function\n",
    "def view_df():\n",
    "    parameters = {\n",
    "        \"t\": title #Setting title as parameters for API search\n",
    "    }\n",
    "    response = requests.get('http://www.omdbapi.com/?i=tt3896198&apikey=64621bf0',params=parameters) #Searching according to title\n",
    "    info= response.json() #Receive responnse as json data\n",
    "    dfData = { #Entering data\n",
    "    'Title': info['Title'],\n",
    "    'Genre': info['Genre'],\n",
    "    'Year': info['Year'],\n",
    "    'Runtime': info['Runtime'],\n",
    "    'Director': info['Director'],\n",
    "    'Awards': info['Awards'],\n",
    "    'Actors': info['Actors']\n",
    "    }\n",
    "    df_searchResult = pd.DataFrame(dfData, index=['1']) #Create df using pandas\n",
    "    display(df_searchResult) #Output df\n",
    "    \n",
    "response=requests.get('http://www.omdbapi.com/?i=tt3896198&apikey=64621bf0') #Checking response of API connection\n",
    "print(response) #200 – OK. The request was successful.\n",
    "\n",
    "print('\\t This program enables you to look up and receive information about movies using the Open Movie Database API \\n \\t Here is a list of previously searched titles: \\n') #welcoming sequence of program, explains function of program to user\n",
    "for line in searchHistoryFile: #Prints titles of previous searches\n",
    "    print(line)\n",
    "print('\\n Please press \"n\" to continue') #Waits for user interaction before proceeding\n",
    "keyboard.wait('n')\n",
    "  \n",
    "print('What would you like to do first?') #Presents navigation options to user\n",
    "try: #try / except statement allowing for user error in response\n",
    "    choice=int(input('\\t 1: Search by title. \\n \\t 2: View previous search information.\\n \\t 3: Exit. \\n')) #Asks user for navigation input\n",
    "except ValueError: #Accounts for non-numeric input from user\n",
    "    print('Please enter a valid selection')\n",
    "    print('\\n Please press \"n\" to continue') #Waits for user interaction before proceeding\n",
    "    keyboard.wait('n') \n",
    "    choice=int(input('\\t 1: Search by title. \\n \\t 2: View previous search information.\\n \\t 3: Exit. \\n')) #Asks user for navigation input\n",
    "if choice>3: #Accounts for input outside of option 1-3 range\n",
    "    validSelection=False #Boolean variable to determine validity of navigation selection, input must be 1-3 to be a valid selection\n",
    "    while validSelection==False: #While navigation input is invalid LOOP\n",
    "        print('Please make a valid selection.') \n",
    "        print('\\n Please press \"n\" to continue')\n",
    "        keyboard.wait('n') #Wait for user interaction\n",
    "        choice=int(input('\\t 1: Search by title. \\n \\t 2: View previous search information.\\n \\t 3: Exit. \\n')) #Asks user for navigation input\n",
    "        if choice== 1 or choice==2 or choice==3:\n",
    "            validSelection=True #Reevaluates if navigation input is valid and while loop may be exited\n",
    "if choice==1: #Navigation input option 1 \n",
    "    while stop==False: \n",
    "        try: #Allowing for user input errors \n",
    "            title= input('Enter a title: ') #User enters title they wish to search\n",
    "            search_title(title) #Implement SEARCH_TITLE function\n",
    "            while viewDFValid==False: \n",
    "                print('\\n Would you like to view this information as a data frame? \\n')\n",
    "                viewDFChoice=int(input('\\t 1: Yes \\n \\t 2: No \\n'))\n",
    "                try: #Catch user input errors\n",
    "                    if viewDFChoice==1:\n",
    "                        view_df() #Display df\n",
    "                        viewDFValid=True #Exit WHILE loop\n",
    "                        break\n",
    "                    elif viewDFChoice==2:\n",
    "                        viewDFValid=True #Exit WHILE loop\n",
    "                        break\n",
    "                except ValueError:\n",
    "                    print('Please enter a valid selection')\n",
    "                    print('\\n Please press \"n\" to continue')\n",
    "                    keyboard.wait('n') #Wait for user interaction\n",
    "            print('\\n What would you like to do next?') #Ask user for further option input\n",
    "            try: #Further allowing for user input errors\n",
    "                choice=int(input('\\t 1: Search by title. \\n \\t 2: View previous search information.\\n \\t 3: Exit. \\n')) \n",
    "            except ValueError: #Catch user error\n",
    "                print('Please enter a valid selection') \n",
    "                choice=int(input('\\t 1: Search by title. \\n \\t 2: View previous search information.\\n \\t 3: Exit. \\n')) #reattempt correct user input\n",
    "            if choice==1: #If new user input is navigation option 1\n",
    "                continue #Continue back to while loop \n",
    "            elif choice==2: #If new user input is naviagtion option 2\n",
    "                for line in lastSearchFile: #Print text file contents: all information from previous searches\n",
    "                    print(line)\n",
    "                print('\\n The above information contains all previously searched titles.')\n",
    "            else:\n",
    "                print('\\t You have exited.') #Exiting program\n",
    "                searchHistoryFile.close()\n",
    "                lastSearchFile.close()\n",
    "                stop=True\n",
    "                break       \n",
    "        except KeyError: #IF MOVIE NOT FOUND\n",
    "            print('\\n \\t Movie not found!')\n",
    "            try: #catching user error\n",
    "                choice=int(input('\\t 1: Search by title. \\n \\t 2: View previous search information.\\n \\t 3: Exit. \\n'))\n",
    "            except ValueError:\n",
    "                print('Please enter a valid selection')\n",
    "                discontinue= int(input('Would you like to \\n \\t 1:Enter a different title \\n \\t 2:Exit \\n'))\n",
    "            if discontinue != 1 and discontinue != 2: #if input is invalid- neither 1 or 2 entered\n",
    "                print('\\t Please enter 1 or 2 \\n press \"n\" to continue \\n')\n",
    "                keyboard.wait('n') #Wait for user interaction\n",
    "                discontinue= int(input('\\n Would you like to \\n \\t 1:Enter a different title \\n \\t 2:Exit \\n')) #reattempt\n",
    "            elif discontinue==2: #Exiting program\n",
    "                print('\\t You have exited.')\n",
    "                searchHistoryFile.close()\n",
    "                lastSearchFile.close()\n",
    "                stop=True\n",
    "            #else:\n",
    "                #title= input('Enter a title: ') #User enters title they wish to search\n",
    "                #search_title(title)              \n",
    "elif choice==2: #If navigation option 2 selected\n",
    "    for line in lastSearchFile: #Print text file contents: all information from previous searches\n",
    "        print(line)\n",
    "    searchHistoryFile.close()\n",
    "    lastSearchFile.close()\n",
    "    print('\\n The above contains all information about previously searched titles.')\n",
    "elif choice==3:\n",
    "    searchHistoryFile.close() #Exiting program\n",
    "    lastSearchFile.close()\n",
    "    print('\\t You have exited.')\n",
    "   "
   ]
  },
  {
   "cell_type": "markdown",
   "id": "204291a6",
   "metadata": {},
   "source": [
    "## Section B - Design documentation:"
   ]
  },
  {
   "cell_type": "markdown",
   "id": "41c81d31",
   "metadata": {},
   "source": [
    "### Introduction"
   ]
  },
  {
   "cell_type": "markdown",
   "id": "4c4a2ca8",
   "metadata": {},
   "source": [
    "This program enables the user to search for various movies, series or episodes using the OMDb (Open Movie Database) API. The user is presented with different navigation options and receives information in an interactive manner in order to minimise user error. When the user enters a title, the program first confirms the title exists on the OMDb, and then displays all relevant information for the entry. At the same time, the title of the search is written to a textfile 'Search History', which contains all titles from previous searches. Additionally, all information from each previously searched title is also written to a textfile 'Last Searched', so that information for all previous searches can also be viewed. After a navigation option is selected and enacted, the user is again presented with the other navigation options so they may choose to search another title, view previous search information, or exit. Step by step information is provided for the user once the program is run in an attempt to minimise user error."
   ]
  },
  {
   "cell_type": "markdown",
   "id": "e1ae8e91",
   "metadata": {},
   "source": [
    "The code of the program includes the following sections:\n",
    "- Importing libraries\n",
    "- Declaring and initialising variables\n",
    "- Opening text files\n",
    "- Defining functions\n",
    "- Checking the status of the API connection\n",
    "- Navigation\n",
    "- Main code"
   ]
  },
  {
   "cell_type": "markdown",
   "id": "adf47ec9",
   "metadata": {},
   "source": [
    "### Demonstration"
   ]
  },
  {
   "cell_type": "markdown",
   "id": "c643331f",
   "metadata": {},
   "source": [
    "The most integral aspect of the code is the function search_title. The function gets the title to search for from the user as input and uses the OMDb API to find the data associated with the title. The json library is then utilised to output this data as a dictionary. The information from the dictionary is then transferred to a list in order to make it easier to output and interact with. The function then uses a for-loop to output the data from the list and writes the relevant formatted information to each text file so the information may be accessed when later recalled."
   ]
  },
  {
   "cell_type": "code",
   "execution_count": null,
   "id": "d81dc1ba",
   "metadata": {},
   "outputs": [],
   "source": [
    "#Defining search + print function\n",
    "def search_title(title):\n",
    "    parameters = {\n",
    "        \"t\": title #Setting title as parameters for API search\n",
    "    }\n",
    "    response = requests.get('http://www.omdbapi.com/?i=tt3896198&apikey=64621bf0',params=parameters) #Searching according to title\n",
    "    info= response.json() #Receive respnse as json data\n",
    "    movieInfo=[] #Initialise movieInfo list\n",
    "    newInfo='Result:'+info['Title']+'\\n' #Formatting output from json data to movieInfo List (for display)\n",
    "    searchHistoryFile.write(newInfo) #Writing formatted output of most recent search title to all previous search title text file\n",
    "    newInfo='Title:'+info['Title'] +'\\n' #As above\n",
    "    movieInfo.append(newInfo) #As above\n",
    "    newInfo='Genre:'+info['Genre'] +'\\n'\n",
    "    movieInfo.append(newInfo)\n",
    "    newInfo= 'Year:'+ info['Year'] +'\\n'\n",
    "    movieInfo.append(newInfo)\n",
    "    newInfo= 'Runtime:'+ info['Runtime'] +'\\n'\n",
    "    movieInfo.append(newInfo)\n",
    "    newInfo= 'Director:'+ info['Director'] +'\\n'\n",
    "    movieInfo.append(newInfo)\n",
    "    newInfo= 'Awards:'+ info['Awards'] +'\\n'\n",
    "    movieInfo.append(newInfo)\n",
    "    newInfo= 'Actors:'+ info['Actors'] +'\\n'\n",
    "    movieInfo.append(newInfo) \n",
    "    for j in range(len(movieInfo)): #Print contents of movieInfo list\n",
    "        print(movieInfo[j])\n",
    "        lastSearchFile.write(movieInfo[j]) #Write contents of movieInfo list to all previous information of searches text file\n",
    "    lastSearchFile.write('\\n') #Add extra line to text file entry for formatting"
   ]
  },
  {
   "cell_type": "markdown",
   "id": "d7e52b22",
   "metadata": {},
   "source": [
    "The second function view_df is less integral to the functioning of the code, and instead serves as an extra feature available to the user to view the data. Similar to the search_title function, the function uses the title given by the user and uses the OMDb API to find the data associated with the title. The json library is then utilised to output this data as a dictionary. However, view_df instead utilises a dataframe in order to display the dictionary information received from the API. "
   ]
  },
  {
   "cell_type": "code",
   "execution_count": null,
   "id": "a21fdf0f",
   "metadata": {},
   "outputs": [],
   "source": [
    "def view_df():\n",
    "    parameters = {\n",
    "        \"t\": title #Setting title as parameters for API search\n",
    "    }\n",
    "    response = requests.get('http://www.omdbapi.com/?i=tt3896198&apikey=64621bf0',params=parameters) #Searching according to title\n",
    "    info= response.json() #Receive responnse as json data\n",
    "    dfData = { #Entering data\n",
    "    'Title': info['Title'],\n",
    "    'Genre': info['Genre'],\n",
    "    'Year': info['Year'],\n",
    "    'Runtime': info['Runtime'],\n",
    "    'Director': info['Director'],\n",
    "    'Awards': info['Awards'],\n",
    "    'Actors': info['Actors']\n",
    "    }\n",
    "    df_searchResult = pd.DataFrame(dfData, index=['1']) #Create df using pandas\n",
    "    display(df_searchResult) #Output df"
   ]
  },
  {
   "cell_type": "markdown",
   "id": "a1aba410",
   "metadata": {},
   "source": [
    "The remainder of the code mainly deals with navigation options and catching user errors. This is done through a series of if statements in conjunction with try except statements to catch errors. While many of these structures contain more nested if statements and try except statements within them which can get repetitive, the use of the above functions helps to minimise this."
   ]
  },
  {
   "cell_type": "markdown",
   "id": "3a0f6848",
   "metadata": {},
   "source": [
    "The example section of code below demonstrates the use of an if statement for navigation options:"
   ]
  },
  {
   "cell_type": "code",
   "execution_count": null,
   "id": "9500ed5d",
   "metadata": {},
   "outputs": [],
   "source": [
    "if choice>3: #Accounts for input outside of option 1-3 range\n",
    "    validSelection=False #Boolean variable to determine validity of navigation selection, input must be 1-3 to be a valid selection\n",
    "    while validSelection==False: #While navigation input is invalid LOOP\n",
    "        print('Please make a valid selection.') \n",
    "        print('\\n Please press \"n\" to continue')\n",
    "        keyboard.wait('n') #Wait for user interaction\n",
    "        choice=int(input('\\t 1: Search by title. \\n \\t 2: View previous search information.\\n \\t 3: Exit. \\n')) #Asks user for navigation input\n",
    "        if choice== 1 or choice==2 or choice==3:\n",
    "            validSelection=True #Reevaluates if navigation input is valid and while loop may be exited"
   ]
  },
  {
   "cell_type": "markdown",
   "id": "9347a843",
   "metadata": {},
   "source": [
    "The example section of code below demonstrates the use of a try except statement to catch various user errors:"
   ]
  },
  {
   "cell_type": "code",
   "execution_count": null,
   "id": "578cf932",
   "metadata": {},
   "outputs": [],
   "source": [
    "try: #Catch user input errors\n",
    "    if viewDFChoice==1:\n",
    "        view_df() #Display df\n",
    "        viewDFValid=True #Exit WHILE loop\n",
    "        break\n",
    "    elif viewDFChoice==2:\n",
    "        viewDFValid=True #Exit WHILE loop\n",
    "        break\n",
    "except ValueError:\n",
    "    print('Please enter a valid selection')\n",
    "    print('\\n Please press \"n\" to continue')\n",
    "    keyboard.wait('n') #Wait for user interaction"
   ]
  },
  {
   "cell_type": "markdown",
   "id": "63bdd987",
   "metadata": {},
   "source": [
    "The use of these structures enables the user to navigate the program accoring to what they would like to do. \n",
    "\n",
    "When the program is first run, the user is presented with a brief description of the function of the program as well as the output from the text file 'Search History', so that the user can see the titles previously searched using the program.\n",
    "\n",
    "The use of the keyboard.wait function is to wait for user interaction before proceeding, in the hope of decreasing the likliness of user error when entering their navigation selection or other input.\n",
    "\n",
    "The relevant code to demonstrate the use of the keyboard.wait function can be seen below:"
   ]
  },
  {
   "cell_type": "code",
   "execution_count": null,
   "id": "664dbcc6",
   "metadata": {},
   "outputs": [],
   "source": [
    "print('\\n Please press \"n\" to continue') #Waits for user interaction before proceeding\n",
    "keyboard.wait('n')\n",
    "  \n",
    "print('What would you like to do first?') #Presents navigation options to user\n",
    "try: #try / except statement allowing for user error in response\n",
    "    choice=int(input('\\t 1: Search by title. \\n \\t 2: View previous search information.\\n \\t 3: Exit. \\n')) #Asks user for navigation input\n",
    "except ValueError: #Accounts for non-numeric input from user\n",
    "    print('Please enter a valid selection')\n",
    "    print('\\n Please press \"n\" to continue') #Waits for user interaction before proceeding\n",
    "    keyboard.wait('n') \n",
    "    choice=int(input('\\t 1: Search by title. \\n \\t 2: View previous search information.\\n \\t 3: Exit. \\n')) #Asks user for navigation input"
   ]
  },
  {
   "cell_type": "markdown",
   "id": "1852113e",
   "metadata": {},
   "source": [
    "The rest of the code is mainly different iterations of this, giving the user new navigation options according to what option was previously chosen."
   ]
  },
  {
   "cell_type": "markdown",
   "id": "853980fb",
   "metadata": {},
   "source": [
    "### Key Design Decisions"
   ]
  },
  {
   "cell_type": "markdown",
   "id": "531e8ed2",
   "metadata": {},
   "source": [
    "This program includes many key design decisions. These include the use of functions to incorporate the main features of the program as well the decision to base the program on a selection based navigation system, due to the lack of GUI. Additionally, formatting the output data in a neat, coherent manner was a priority- and many design decisions were made with that in mind.\n",
    "\n",
    "#### The Use of Functions for Key Design Decisions\n",
    "\n",
    "I initially opted not to use a funcion for the section of code now defined under the search_title function, and instead wrote the code where it was applicable to the navigation choice made. However, as I incorperated more options through the navigation options, I realised the best decision would be for the search_title process to be a function. This was due to factors such as the need for the action to be recalled multiple times throughout the code, as well as the amount of lines of code required for the action and the time it took to develop the action and get it working correctly. \n",
    "\n",
    "Once I realised the effectiveness of the search_title function and the ways it improved the coding of the overall program, it became clear that the view_df process would also be most useful as a function for the same factors: it's need to be called in multiple instances throughout the code due to the nature of the navigation system used.\n",
    "\n",
    "#### The Use of a Navigation System as a Key Design Decision\n",
    "\n",
    "Due to my previous coding experience in Pascal, I was accustomed to utilising a GUI to get input from the user. This influenced my decision to use a numbered navigation system for this project, as I wanted the user to have different options for input that the program would be able to interpret in a specific way with minimal user error. \n",
    "\n",
    "However, the navigation system does have a few functional issues. Due to the different navigational branches the user is able to choose, and the lack of a GUI, the navigation options don't always link back to the three main options presented to the user throughout the program:\n",
    "\n",
    "1: Enter a title to search for\n",
    "2: View previous search information\n",
    "3: Exit\n",
    "\n",
    "I wanted the navigation system to always link back to these three options no matter which of the first two options were selected. Unfortunately, between trying to catch user errors with try except statements and accounting for user choice, this became difficult to keep up with. While I did use loops in many of these instances in an attempt to keep the navigation as cohesive as possible, the limited options for the project interface hindered this.\n",
    "\n",
    "#### The Format of the Output Data as a Key Design Decision\n",
    "\n",
    "Due to the nature of the project scope and the requirement of various forms of text output such as a text file, I decideded I wanted to prioritise the neat-ness and and organisation of the output. I did this through utilising '\\n' for adding a new line and '\\t' for tab, which made the text output easier to read with the limited formatting options available. This is demonstrated by the code excerpt below:\n"
   ]
  },
  {
   "cell_type": "code",
   "execution_count": null,
   "id": "44822944",
   "metadata": {},
   "outputs": [],
   "source": [
    "choice=int(input('\\t 1: Search by title. \\n \\t 2: View previous search information.\\n \\t 3: Exit. \\n')) #Asks user for navigation input"
   ]
  },
  {
   "cell_type": "markdown",
   "id": "35a6661b",
   "metadata": {},
   "source": [
    "### Key Logic Aspects"
   ]
  },
  {
   "cell_type": "markdown",
   "id": "d3b7440f",
   "metadata": {},
   "source": [
    "The key logic aspects of the program include the numbered navigation system which utilises a series of if statements to determine which action should take place in accordance with which numbered option was selected. \n",
    "\n",
    "An example of this can be viewed below:"
   ]
  },
  {
   "cell_type": "code",
   "execution_count": null,
   "id": "592a8323",
   "metadata": {},
   "outputs": [],
   "source": [
    "try: #try / except statement allowing for user error in response\n",
    "    choice=int(input('\\t 1: Search by title. \\n \\t 2: View previous search information.\\n \\t 3: Exit. \\n')) #Asks user for navigation input\n",
    "except ValueError: #Accounts for non-numeric input from user\n",
    "    print('Please enter a valid selection')\n",
    "    print('\\n Please press \"n\" to continue') #Waits for user interaction before proceeding\n",
    "    keyboard.wait('n') \n",
    "    choice=int(input('\\t 1: Search by title. \\n \\t 2: View previous search information.\\n \\t 3: Exit. \\n')) #Asks user for navigation input\n",
    "if choice>3: #Accounts for input outside of option 1-3 range\n",
    "    validSelection=False #Boolean variable to determine validity of navigation selection, input must be 1-3 to be a valid selection\n",
    "    while validSelection==False: #While navigation input is invalid LOOP\n",
    "        print('Please make a valid selection.') \n",
    "        print('\\n Please press \"n\" to continue')\n",
    "        keyboard.wait('n') #Wait for user interaction\n",
    "        choice=int(input('\\t 1: Search by title. \\n \\t 2: View previous search information.\\n \\t 3: Exit. \\n')) #Asks user for navigation input\n",
    "        if choice== 1 or choice==2 or choice==3:\n",
    "            validSelection=True #Reevaluates if navigation input is valid and while loop may be exited"
   ]
  },
  {
   "cell_type": "markdown",
   "id": "09fef0c7",
   "metadata": {},
   "source": [
    "This excerpt of code is just a small example of how if statements are utilised in the program for navigation, which demonstrates the use of logic gates in the program.\n",
    "\n",
    "The code above begins with asking the user for their navigation selection, which may only be the options 1, 2, or 3- which is outlined in the input question posed to the user. This input function is also nested in a try except statement, in an attempt to catch any ValueErrors the user's input may result in. \n",
    "\n",
    "If the input the user enters does result in a ValueError, the program alerts the user to their error and asks them to reattempt with valid input. The user must then press the key 'n' to continue, this feature was added in an effort to minimise user error and reemphasise the incorret input the user has previosuly entered. The program then repeats the original naviagtion options.\n",
    "\n",
    "Here the first if statement of the code excerpt is encountered. It's purpose is to also catch errors of invalid input. For example, entering the number 4 would not invoke a ValueError in the try except statement, as 4 is an acceptable integer and not any kind of string or char. However, 4 is not a valid naviagtional option presented to the user. The if statement therefore checks that the integer the user enters is within the range of navigational choices, 1-3, and if it is not, the boolean variable validSelection is set from True to false and the following while loop which uses validSelection as its conditional is entered.\n",
    "\n",
    "The while loop first alert's the user through a print statement that their input is again invalid, and to please make a valid selection and press 'n' to continue. The whie loop then asks the user to again enter their navigational selection. This is followed by an if statement which requires the conditions that the choice variable from the user's input either be equal to 1,2 or 3 to be valid. If the choice variable is equal to 1,2 or 3, the boolean variable validSelection is set to True and the while loop ends due to the change in conditional. \n",
    "\n",
    "The code of the rest of the program, which deals similarly with matters of navigation and the processes that each navigational option enacts, is included below. It demonstrates how the main body of the code for the program relys on if statements as logic gates for which navigational option the user has chosen."
   ]
  },
  {
   "cell_type": "code",
   "execution_count": null,
   "id": "4ce133b6",
   "metadata": {},
   "outputs": [],
   "source": [
    "if choice==1: #Navigation input option 1 \n",
    "    while stop==False: \n",
    "        try: #Allowing for user input errors \n",
    "            title= input('Enter a title: ') #User enters title they wish to search\n",
    "            search_title(title) #Implement SEARCH_TITLE function\n",
    "            while viewDFValid==False: \n",
    "                print('\\n Would you like to view this information as a data frame? \\n')\n",
    "                viewDFChoice=int(input('\\t 1: Yes \\n \\t 2: No \\n'))\n",
    "                try: #Catch user input errors\n",
    "                    if viewDFChoice==1:\n",
    "                        view_df() #Display df\n",
    "                        viewDFValid=True #Exit WHILE loop\n",
    "                        break\n",
    "                    elif viewDFChoice==2:\n",
    "                        viewDFValid=True #Exit WHILE loop\n",
    "                        break\n",
    "                except ValueError:\n",
    "                    print('Please enter a valid selection')\n",
    "                    print('\\n Please press \"n\" to continue')\n",
    "                    keyboard.wait('n') #Wait for user interaction\n",
    "            print('\\n What would you like to do next?') #Ask user for further option input\n",
    "            try: #Further allowing for user input errors\n",
    "                choice=int(input('\\t 1: Search by title. \\n \\t 2: View previous search information.\\n \\t 3: Exit. \\n')) \n",
    "            except ValueError: #Catch user error\n",
    "                print('Please enter a valid selection') \n",
    "                choice=int(input('\\t 1: Search by title. \\n \\t 2: View previous search information.\\n \\t 3: Exit. \\n')) #reattempt correct user input\n",
    "            if choice==1: #If new user input is navigation option 1\n",
    "                continue #Continue back to while loop \n",
    "            elif choice==2: #If new user input is naviagtion option 2\n",
    "                for line in lastSearchFile: #Print text file contents: all information from previous searches\n",
    "                    print(line)\n",
    "                print('\\n The above information contains all previously searched titles.')\n",
    "            else:\n",
    "                print('\\t You have exited.') #Exiting program\n",
    "                searchHistoryFile.close()\n",
    "                lastSearchFile.close()\n",
    "                stop=True\n",
    "                break       \n",
    "        except KeyError: #IF MOVIE NOT FOUND\n",
    "            print('\\n \\t Movie not found!')\n",
    "            try: #catching user error\n",
    "                choice=int(input('\\t 1: Search by title. \\n \\t 2: View previous search information.\\n \\t 3: Exit. \\n'))\n",
    "            except ValueError:\n",
    "                print('Please enter a valid selection')\n",
    "                discontinue= int(input('Would you like to \\n \\t 1:Enter a different title \\n \\t 2:Exit \\n'))\n",
    "            if discontinue != 1 and discontinue != 2: #if input is invalid- neither 1 or 2 entered\n",
    "                print('\\t Please enter 1 or 2 \\n press \"n\" to continue \\n')\n",
    "                keyboard.wait('n') #Wait for user interaction\n",
    "                discontinue= int(input('\\n Would you like to \\n \\t 1:Enter a different title \\n \\t 2:Exit \\n')) #reattempt\n",
    "            elif discontinue==2: #Exiting program\n",
    "                print('\\t You have exited.')\n",
    "                searchHistoryFile.close()\n",
    "                lastSearchFile.close()\n",
    "                stop=True\n",
    "            #else:\n",
    "                #title= input('Enter a title: ') #User enters title they wish to search\n",
    "                #search_title(title)              \n",
    "elif choice==2: #If navigation option 2 selected\n",
    "    for line in lastSearchFile: #Print text file contents: all information from previous searches\n",
    "        print(line)\n",
    "    searchHistoryFile.close()\n",
    "    lastSearchFile.close()\n",
    "    print('\\n The above contains all information about previously searched titles.')\n",
    "elif choice==3:\n",
    "    searchHistoryFile.close() #Exiting program\n",
    "    lastSearchFile.close()\n",
    "    print('\\t You have exited.')"
   ]
  },
  {
   "cell_type": "markdown",
   "id": "0c9de116",
   "metadata": {},
   "source": [
    "The above code uses an if statement with three options, if choice is equal to 1,2 or 3. Each of these if / elif statements represnets a navigational option the user may choose. The first option, the most detailed option, contains multiple other if statements and try except statements in order to catch user errors and navigate the program. The functions search_title and view_df are also used in option 1 presented here, demonstrating how the use of functions for the proccesses that would need to be called repeatedly all in all made the code easier to read, less cumbersome and increased efficiency. \n",
    "\n",
    "The above code does however contain a lot of repetition, and is at times not the most efficient. These are issues I will reflect on in the 'Retrospective Section' below.  "
   ]
  },
  {
   "cell_type": "markdown",
   "id": "53ebf834",
   "metadata": {},
   "source": [
    "### Data Collection"
   ]
  },
  {
   "cell_type": "markdown",
   "id": "ae487cb7",
   "metadata": {},
   "source": [
    "The program collects data in two ways. Program navigational data is collected through input from the user, while the data assosiated with the searched title is collected throught the OMDb API. \n",
    "\n",
    "An API (Application Programming Interface) is a set of defined rules or software that enables different applications, computers, or software to communicate with each other. It acts as an intermediary between these different applications or systems to transfer data. A common example of how it achieves this, and relevant to this program, is through retrieving data.\n",
    "\n",
    "In terms of this program, the user asks the program for information about a search title, this information which can be found on the OMDb. The OMDb API then retrieves the data from the OMDb for the user, and outputs it back to the user through this program. This illustrates how the API collects data from the OMDb.\n",
    "\n",
    "The OMDb specifically is interacted with through the dedicated OMDb API, which takes a set of parameters relevant to the required information and searches the database according to these parameters, such as 'i','t','type' or 's'.\n",
    "\n",
    "Data is also collected from the user directly through the use of the input function, this includes data related to navigational choices as well as titles to search the OMDBb for, and retreive information about."
   ]
  },
  {
   "cell_type": "markdown",
   "id": "2fd185f4",
   "metadata": {},
   "source": [
    "### Retrospective Section"
   ]
  },
  {
   "cell_type": "markdown",
   "id": "b7716993",
   "metadata": {},
   "source": [
    "The program initially seemed quite straight forward and I didn't encounter any major errors that stopped the program from running that I felt I wouldn't be able to figure out, or sit with for over a few hours. My main issues were trying to make the navigational options as efficient as possible and ensuring the user input valid data. Aside from the text file issue I describe below, coding the program and making improvments as I progressed through it was swift. The biggest aspect of this was restructuring the code after over half the program was completed to rework the functions which overall made the code easier to work with, more efficient and less cumbersome. \n",
    "\n",
    "There was a bit of a learning curve to practically implement the python libraries I was more unfamilair with, such as json and pandas. However any errors I encountered merely made me more familiar with the workings and details of these libraries, especially pandas as I opted to add an extra feature to my program using a dataframe. \n",
    "\n",
    "I detail the aspects of the project which could be improved upon below:"
   ]
  },
  {
   "cell_type": "markdown",
   "id": "97093da5",
   "metadata": {},
   "source": [
    "#### Problems Encountered and Improvments"
   ]
  },
  {
   "cell_type": "markdown",
   "id": "60670638",
   "metadata": {},
   "source": [
    "I did encounter a few problems while coding this project. These were mainly due to the limited nature of the navigational system and the limited way in which data could be collected from the user, as well as processing the direct output from the OMDb itself into a text file.\n",
    "\n",
    "##### Navigation System\n",
    "\n",
    "Ideally, the navigational system used would always return to a kind of 'home screen', in which the three main appropriate navigational features would always be returned to at the end of a different navigational selection. This would entail this 'home screen' being shown after the user has searched for their desired title, or viewed the previous information available or search another title. However, this constant return to 3 options became tricky to code due to the never ending possibilities of which combination of navigational choices the user could opt for, as well as the lack of a comprehensive GUI which would present more options. \n",
    "\n",
    "While it was possible to achieve this to an extent. However, the amount of while loops, if statements, nested loops, nested if statements, nested try except statements, and normal try except statements started to become cluttered and confusing to follow, all on the small chance the user would want to repeat certain navigational options in a certain order. While I'm sure there was a more comprehensive and efficent way to achieve this kind of 'home screen' system, I decided due to time constraints that mine was comprehenisve enough for the scope of the project and the user's intentions. \n",
    "\n",
    "Using functions for the key design decisions did remedy this to an extent, and I beleive the use of Object Orientated Coding could have assisted as well. But again, unfortunately due to time constratints I did not have enough time left to completely redeisgn my program based around these revelations, and instead implemented them as much as I could, to a reasonable degree which I beleved would help the functionality of the navigational system.\n",
    "\n",
    "##### Data Collection\n",
    "\n",
    "Due to the lack of GUI, I found it difficult collecting data from the user solely through the input function. This meant requesting any information from the user one line at a time and only being able to flag the input data as invalid once it could be processed through the code. This would have been much easier with a comprehenisve GUI which allowed multiple types of input data for different parameters through features such as text boxes, input boxes, or multi select boxes. \n",
    "\n",
    "##### Text File Output\n",
    "\n",
    "This was the biggest issue I encountered, as I simply did not have the depth of knowledge required to prevent it from happening, but understoof how to reset it each time it happened. I also struggled to find any internet resources on the matter which was in the scope of my understanding. \n",
    "\n",
    "Due to certain characters in the data output by OMDb, such as '/' or '-', the text file I used to keep track of information from previously searched titless kept encoding itself into a format Jupyter Notebook could not work with. Jupyter Notebook apparently requires textfiles to be 'UTF-8' encoded, a format which apparently did not support the use of characters such as '/' or '-'. Now each time the text file changed to 'ANSI' encoding to cope with the characters from the OMDb output, Jupyter Notebook was unable to work with it. I could fix this through opening the text file in my laptop Notepad and resaving it as 'UTF-8' encoded, and thus reaccess the information of the previously searched titles, however I was unable to find a way to stop the text file from becoming 'ANSI' encoded in the first place.\n",
    "\n",
    "I researched the matter heavily and did attempt to remedy it by specifying the text file should be 'UTF-8' encoded when the file was opened, but I still occassionally encountered the problem and the text file would then be unreadable by Jupyter Notebook until resaved as 'UTF-8' encoded."
   ]
  },
  {
   "cell_type": "markdown",
   "id": "4fb93057",
   "metadata": {},
   "source": [
    "## Help Documentation"
   ]
  },
  {
   "cell_type": "markdown",
   "id": "0e0c743a",
   "metadata": {},
   "source": [
    "The program should be used according to the instructions presented to the user at each navigational option.\n",
    "\n",
    "The program makes use of a navigational system with 3 options to present the user with different actions, many of these actions may be repeated more than once.\n",
    "\n",
    "In the event that the user may like to select a naviagtional option which is unavailable or not presented, it is advised to best restart the program, as all information from previous searches will be saved and stored on the associated text file accordingly.\n",
    "\n",
    "In the event the 'Last Searched' text file presents a written error within the text file about 'UTF-8' encoding, the best course of procedure is to open the text file in computer's default text file viewer, and resave the text file with 'Encoding:' set to 'UTF-8' instead of 'ANSI'. The default text file viewer should ask whether you would like to overwrite the previosuly existing text file, to which the answer is yes. This will ensure no data is lost from the text file of previous searches due to the encoding issues present.\n",
    "\n",
    "In the case of any kind of ValueError or KeyError, please ensure the input entered is in the correct format required.\n",
    "For navigational options, this is mainly limited to an integer between 1-3."
   ]
  }
 ],
 "metadata": {
  "kernelspec": {
   "display_name": "Python 3 (ipykernel)",
   "language": "python",
   "name": "python3"
  },
  "language_info": {
   "codemirror_mode": {
    "name": "ipython",
    "version": 3
   },
   "file_extension": ".py",
   "mimetype": "text/x-python",
   "name": "python",
   "nbconvert_exporter": "python",
   "pygments_lexer": "ipython3",
   "version": "3.9.13"
  }
 },
 "nbformat": 4,
 "nbformat_minor": 5
}
